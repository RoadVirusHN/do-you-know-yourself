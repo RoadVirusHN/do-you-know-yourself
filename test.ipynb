{
 "metadata": {
  "language_info": {
   "codemirror_mode": {
    "name": "ipython",
    "version": 3
   },
   "file_extension": ".py",
   "mimetype": "text/x-python",
   "name": "python",
   "nbconvert_exporter": "python",
   "pygments_lexer": "ipython3",
   "version": "3.8.5"
  },
  "orig_nbformat": 4,
  "kernelspec": {
   "name": "python3",
   "display_name": "Python 3.8.5 64-bit ('base': conda)"
  },
  "interpreter": {
   "hash": "915148a585cb17fc703c33b6cb50f1069f1ddc6927d0e25475c1984c1b47c4fd"
  }
 },
 "nbformat": 4,
 "nbformat_minor": 2,
 "cells": [
  {
   "cell_type": "code",
   "execution_count": 6,
   "metadata": {},
   "outputs": [],
   "source": [
    "import pandas as pd"
   ]
  },
  {
   "cell_type": "code",
   "execution_count": 7,
   "metadata": {},
   "outputs": [
    {
     "output_type": "execute_result",
     "data": {
      "text/plain": [
       "   tag  assess  grade                    text   choice0   choice1    choice2  \\\n",
       "0    0       0      0         이순신은 어느 시대 사람인가     청나라 말      고려 초      조선 중기   \n",
       "1    0       1      1    이순신이 최후를 맞은 전투는 무엇인가    워털루 전투     노량 해전   다섯 군대 전투   \n",
       "2    1       0      1      박지성이 뛰지 않은 팀은 어디인가       PSG        맨유    대한민국 국대   \n",
       "3    1       1      2  손흥민의 팀 동료가 아닌 사람은 누구인가  손흥민팀 구단주  손흥민팀 골키퍼    손흥민팀 감독   \n",
       "\n",
       "       choice3  answer  \n",
       "0          고조선       3  \n",
       "1    알트도르프 공방전       2  \n",
       "2   박지성 모교 축구팀       1  \n",
       "3           메시       4  "
      ],
      "text/html": "<div>\n<style scoped>\n    .dataframe tbody tr th:only-of-type {\n        vertical-align: middle;\n    }\n\n    .dataframe tbody tr th {\n        vertical-align: top;\n    }\n\n    .dataframe thead th {\n        text-align: right;\n    }\n</style>\n<table border=\"1\" class=\"dataframe\">\n  <thead>\n    <tr style=\"text-align: right;\">\n      <th></th>\n      <th>tag</th>\n      <th>assess</th>\n      <th>grade</th>\n      <th>text</th>\n      <th>choice0</th>\n      <th>choice1</th>\n      <th>choice2</th>\n      <th>choice3</th>\n      <th>answer</th>\n    </tr>\n  </thead>\n  <tbody>\n    <tr>\n      <th>0</th>\n      <td>0</td>\n      <td>0</td>\n      <td>0</td>\n      <td>이순신은 어느 시대 사람인가</td>\n      <td>청나라 말</td>\n      <td>고려 초</td>\n      <td>조선 중기</td>\n      <td>고조선</td>\n      <td>3</td>\n    </tr>\n    <tr>\n      <th>1</th>\n      <td>0</td>\n      <td>1</td>\n      <td>1</td>\n      <td>이순신이 최후를 맞은 전투는 무엇인가</td>\n      <td>워털루 전투</td>\n      <td>노량 해전</td>\n      <td>다섯 군대 전투</td>\n      <td>알트도르프 공방전</td>\n      <td>2</td>\n    </tr>\n    <tr>\n      <th>2</th>\n      <td>1</td>\n      <td>0</td>\n      <td>1</td>\n      <td>박지성이 뛰지 않은 팀은 어디인가</td>\n      <td>PSG</td>\n      <td>맨유</td>\n      <td>대한민국 국대</td>\n      <td>박지성 모교 축구팀</td>\n      <td>1</td>\n    </tr>\n    <tr>\n      <th>3</th>\n      <td>1</td>\n      <td>1</td>\n      <td>2</td>\n      <td>손흥민의 팀 동료가 아닌 사람은 누구인가</td>\n      <td>손흥민팀 구단주</td>\n      <td>손흥민팀 골키퍼</td>\n      <td>손흥민팀 감독</td>\n      <td>메시</td>\n      <td>4</td>\n    </tr>\n  </tbody>\n</table>\n</div>"
     },
     "metadata": {},
     "execution_count": 7
    }
   ],
   "source": [
    "pd.read_csv('./question.csv')"
   ]
  },
  {
   "cell_type": "code",
   "execution_count": null,
   "metadata": {},
   "outputs": [],
   "source": []
  }
 ]
}